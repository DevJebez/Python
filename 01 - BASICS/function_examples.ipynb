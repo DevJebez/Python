{
 "cells": [
  {
   "cell_type": "markdown",
   "metadata": {},
   "source": [
    "### Temperature converter\n"
   ]
  },
  {
   "cell_type": "code",
   "execution_count": 3,
   "metadata": {},
   "outputs": [
    {
     "data": {
      "text/plain": [
       "25.0"
      ]
     },
     "execution_count": 3,
     "metadata": {},
     "output_type": "execute_result"
    }
   ],
   "source": [
    "def convert_temperature(temp,unit):\n",
    "    if unit == \"C\":\n",
    "        return temp * 9/5 + 32\n",
    "    elif unit == \"F\":\n",
    "        return (temp-32)*5/9\n",
    "    else:\n",
    "        return None\n",
    "convert_temperature(25,\"C\")\n",
    "convert_temperature(77,\"F\")"
   ]
  },
  {
   "cell_type": "markdown",
   "metadata": {},
   "source": [
    "### Password strength checker"
   ]
  },
  {
   "cell_type": "code",
   "execution_count": 5,
   "metadata": {},
   "outputs": [
    {
     "name": "stdout",
     "output_type": "stream",
     "text": [
      "True\n"
     ]
    }
   ],
   "source": [
    "def is_strong_password(password):\n",
    "    if len(password) < 8:\n",
    "        return False \n",
    "    if not any(char.isdigit() for char in password):\n",
    "        return False \n",
    "    if not any(char.islower() for char in password):\n",
    "        return False \n",
    "    if not any(char.isupper() for char in password):\n",
    "        return False \n",
    "    if not any(char in \"!@#$%&()_+=-\" for char in password):\n",
    "        return False \n",
    "    else:\n",
    "        return True \n",
    "    \n",
    "# Calling the function \n",
    "print(is_strong_password(\"helloworlD@123\"))"
   ]
  },
  {
   "cell_type": "markdown",
   "metadata": {},
   "source": [
    "### Total cost of items in a shopping cart\n"
   ]
  },
  {
   "cell_type": "code",
   "execution_count": 6,
   "metadata": {},
   "outputs": [
    {
     "data": {
      "text/plain": [
       "5.9"
      ]
     },
     "execution_count": 6,
     "metadata": {},
     "output_type": "execute_result"
    }
   ],
   "source": [
    "def calculate_total_cost(cart):\n",
    "    total_cost = 0\n",
    "    for item in cart:\n",
    "        total_cost += item['price'] * item['quantity']\n",
    "    return total_cost\n",
    "\n",
    "cart_jebez = [{\"name\":\"Apple\",'price':0.5,'quantity':6},\n",
    "              {\"name\" :\"Banana\",'price':0.4,'quantity':5},\n",
    "              {'name':\"Orange\",'price':0.3,'quantity':3}]\n",
    "calculate_total_cost(cart_jebez)"
   ]
  },
  {
   "cell_type": "code",
   "execution_count": null,
   "metadata": {},
   "outputs": [],
   "source": []
  }
 ],
 "metadata": {
  "language_info": {
   "name": "python"
  }
 },
 "nbformat": 4,
 "nbformat_minor": 2
}
