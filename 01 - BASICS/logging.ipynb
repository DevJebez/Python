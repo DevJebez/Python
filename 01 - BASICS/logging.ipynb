{
 "cells": [
  {
   "cell_type": "markdown",
   "id": "d6eb0c99",
   "metadata": {},
   "source": [
    "# Logging \n",
    "It is a process of tracking if events that happens when a software runs\n",
    "\n",
    "It gives the severity of errors, better formatting and output to files or remote servers\n"
   ]
  },
  {
   "cell_type": "markdown",
   "id": "3b79f8f8",
   "metadata": {},
   "source": [
    "# The severity levels are \n",
    "1. Debug\n",
    "2. Info\n",
    "3. Warning \n",
    "4. Error\n",
    "5. Critical \n"
   ]
  },
  {
   "cell_type": "code",
   "execution_count": 7,
   "id": "1e9dac3e",
   "metadata": {},
   "outputs": [
    {
     "name": "stderr",
     "output_type": "stream",
     "text": [
      "INFO:root:This is an info message\n",
      "WARNING:root:This is a warning\n",
      "ERROR:root:This is an error\n",
      "CRITICAL:root:This is critical\n"
     ]
    }
   ],
   "source": [
    "import logging\n",
    "\n",
    "logging.basicConfig(level=logging.DEBUG)\n",
    "logging.debug(\"This is a debug message\")\n",
    "logging.info(\"This is an info message\")\n",
    "logging.warning(\"This is a warning\")\n",
    "logging.error(\"This is an error\")\n",
    "logging.critical(\"This is critical\")\n"
   ]
  },
  {
   "cell_type": "code",
   "execution_count": null,
   "id": "6ac43165",
   "metadata": {},
   "outputs": [
    {
     "name": "stdout",
     "output_type": "stream",
     "text": [
      "eH\n",
      "lH\n",
      "lH\n",
      "oH\n",
      "le\n",
      "le\n",
      "oe\n",
      "ll\n",
      "ol\n",
      "ol\n"
     ]
    }
   ],
   "source": [
    "s = input(\"Enter a string :\")\n",
    "for i in range(len(s)):\n",
    "    for j in range(i+1,len(s)):\n",
    "        if(i == j):\n",
    "            continue\n",
    "        else:\n",
    "            if (s[i] > s[j]):\n",
    "                print(s[i]+s[j])\n",
    "            else:\n",
    "                print(s[j]+s[i])"
   ]
  },
  {
   "cell_type": "code",
   "execution_count": 14,
   "id": "758ea204",
   "metadata": {},
   "outputs": [
    {
     "name": "stdout",
     "output_type": "stream",
     "text": [
      "1\n",
      "121\n",
      "12321\n",
      "1234321\n"
     ]
    }
   ],
   "source": [
    "for i in range(1,5):\n",
    "    for j in range(1,i+1):\n",
    "        print(j,end=\"\")\n",
    "    for k in range(i-1,0,-1):\n",
    "        print(k,end=\"\")\n",
    "    print()"
   ]
  }
 ],
 "metadata": {
  "kernelspec": {
   "display_name": "Python 3",
   "language": "python",
   "name": "python3"
  },
  "language_info": {
   "codemirror_mode": {
    "name": "ipython",
    "version": 3
   },
   "file_extension": ".py",
   "mimetype": "text/x-python",
   "name": "python",
   "nbconvert_exporter": "python",
   "pygments_lexer": "ipython3",
   "version": "3.11.4"
  }
 },
 "nbformat": 4,
 "nbformat_minor": 5
}
